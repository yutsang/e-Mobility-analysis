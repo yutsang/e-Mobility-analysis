{
 "cells": [
  {
   "cell_type": "code",
   "execution_count": 1,
   "metadata": {},
   "outputs": [],
   "source": [
    "import cv2\n",
    "import numpy as np\n",
    "\n",
    "# Load the image\n",
    "img = cv2.imread('HighwaysDepartmentImage/2298.jpg')\n",
    "\n",
    "# Resize the image to a smaller size using the INTER_AREA interpolation method\n",
    "img_resized = cv2.resize(img, (640, 480), interpolation=cv2.INTER_AREA)\n",
    "\n",
    "# Crop the image to remove unwanted areas\n",
    "img_cropped = img_resized[100:400, 200:500]\n",
    "\n",
    "# Display the original and processed images\n",
    "cv2.imshow('Original Image', img)\n",
    "cv2.imshow('Resized Image', img_resized)\n",
    "cv2.imshow('Cropped Image', img_cropped)\n",
    "cv2.waitKey(0)\n",
    "cv2.destroyAllWindows()"
   ]
  },
  {
   "cell_type": "code",
   "execution_count": null,
   "metadata": {},
   "outputs": [],
   "source": []
  }
 ],
 "metadata": {
  "kernelspec": {
   "display_name": "base",
   "language": "python",
   "name": "python3"
  },
  "language_info": {
   "codemirror_mode": {
    "name": "ipython",
    "version": 3
   },
   "file_extension": ".py",
   "mimetype": "text/x-python",
   "name": "python",
   "nbconvert_exporter": "python",
   "pygments_lexer": "ipython3",
   "version": "3.10.9"
  },
  "orig_nbformat": 4
 },
 "nbformat": 4,
 "nbformat_minor": 2
}
